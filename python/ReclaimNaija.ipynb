{
 "metadata": {
  "name": "",
  "signature": "sha256:f8a7f2089a9891cb6be180fc4557928c93d338b2b493578793430ca6be6d1050"
 },
 "nbformat": 3,
 "nbformat_minor": 0,
 "worksheets": [
  {
   "cells": [
    {
     "cell_type": "code",
     "collapsed": false,
     "input": [
      "'''\n",
      "This script scrapes information about harrassment at the Nigerian 2011 & 2015 elections from www.reclamnaija.com \n",
      "Written by : Jasper Ginn\n",
      "Date : 25-01-2015\n",
      "Last modified : 04-02-2015\n",
      "Please send suggestions/comments to : Jasperginn@hotmail.com | <Jhanna's email>\n",
      "\n",
      "STILL TO IMPLEMENT:\n",
      "    (1) range for scraping - possibly date, years etc. (low priority)\n",
      "    (2) Implement function that looks for possible duplicates in SQL database\n",
      "    (4) setup log file (medium priority)\n",
      "    (7) send dictionaries to SQLite (instead of lists) (low priority)\n",
      "'''\n",
      "\n",
      "# --------------------------------------------------------------------------------\n",
      "\n",
      "'''\n",
      "Import modules\n",
      "'''\n",
      "\n",
      "# Import os\n",
      "import os\n",
      "# BeautifulSoup\n",
      "from bs4 import BeautifulSoup\n",
      "# Logging\n",
      "import logging\n",
      "# uuid\n",
      "import uuid\n",
      "# Mechanize\n",
      "import mechanize\n",
      "# requests\n",
      "import requests\n",
      "# Import SQLite\n",
      "import sqlite3 as lite\n",
      "# Import regex\n",
      "import re\n",
      "# Import datetime\n",
      "import datetime\n",
      "# Import os.path (to check if db exists)\n",
      "import os.path\n",
      "\n",
      "'''\n",
      "+++ MAIN FUNCTIONS +++\n",
      "'''\n",
      "    \n",
      "'''\n",
      "FUNCTION 1 : function that captures the index of all urls on each page\n",
      "    parameters : \n",
      "        url  :  string\n",
      "            url of the index page.\n",
      "'''\n",
      "\n",
      "def naijaIndex(url):\n",
      "    try:\n",
      "        page = requests.get(url).text\n",
      "        soup = BeautifulSoup(page, \"html.parser\")\n",
      "        try:\n",
      "            # Identify the table which holds the values of interest.\n",
      "            table = soup.find('div',{'class':'big-block'})\n",
      "            # isolate reports\n",
      "            try:\n",
      "                Naija = table.findAll('div',{'class':'report_row1'})\n",
      "                urls = [ N.find('div',{'class':'report_details report_col2'}).find('a').get('href') \n",
      "                        for N in Naija ]\n",
      "                return(urls)\n",
      "            except:\n",
      "                print \"INDEX (1): There was an error while extracting the urls for the individual pages from url {}\".format(url)\n",
      "                return(\"\")\n",
      "        except:\n",
      "            print \"INDEX (2): There was an error while extracting the table for url {}. Check the traceback for errors.\".format(url)\n",
      "            return(\"\")\n",
      "    except:\n",
      "        print \"INDEX (3): There was an error while loading the page for url {}. Check the traceback for errors.\".format(url)\n",
      "        \n",
      "'''\n",
      "FUNCTION 2 : Function that scrapes results from each individual page and stores it in the database\n",
      "    parameters : \n",
      "        url  :  string\n",
      "            url pointing towards the individual report\n",
      "'''\n",
      "\n",
      "def naijaReport(url):\n",
      "    try:\n",
      "        soup = BeautifulSoup(requests.get(url).text)\n",
      "    except:\n",
      "        print \"REPORT: Error loading page with bs4 for url {}. Check the log for traceback . . . \".format(url)\n",
      "        return(url,\"\",\"\",\"\",\"\",\"\",\"\",\"\")\n",
      "    # Lon / Lat\n",
      "    try:\n",
      "        geo = naijaLocs(soup)\n",
      "        lon = geo[0]\n",
      "        lat = geo[1]\n",
      "    except:\n",
      "        print 'GEO: There occurred an error while extracting the geolocations for url {}. Check the log for issues . . . '.format(url)\n",
      "        lon = \"\"\n",
      "        lat = \"\"\n",
      "    try:\n",
      "        # report\n",
      "        text = ' '.join(soup.find('div',{'class':'report-description'}).find('div',{'class':'content'}).contents[0].split())\n",
      "    except: \n",
      "        print \"COMPLAINT: There occurred an error while scraping the report for url {}. Please check the log for issues . . . \".format(url)\n",
      "        text = \"\"\n",
      "    try:\n",
      "        # Details\n",
      "        text = ' '.join(soup.find('div',{'class':'report-description'}).find('div',{'class':'content'}).contents[0].split())\n",
      "        reportD = soup.find('div',{'class':'report-details'})\n",
      "        # Verified?\n",
      "        ver = reportD.find('div',{'class':'verified'}).text\n",
      "        # tag\n",
      "        tag = reportD.find('h1').text\n",
      "        # Details\n",
      "        det = reportD.find('ul',{'class':'details'}).findAll('li')\n",
      "        Loc = ' '.join(det[0].contents[2].split())\n",
      "        Dat = datetime.datetime.strptime(' '.join(det[1].contents[2].split()),'%b %d %Y').date()\n",
      "        Tim = ' '.join(det[2].contents[2].split())\n",
      "        Cat = ' '.join(det[3].find('a').text.split())\n",
      "        scrapedate = datetime.date.today()\n",
      "    except:\n",
      "        print 'DETAILS: There occurred an error while scraping the details for url {}. Please check the log for issues . . . '.format(url)\n",
      "        ver = \"\"\n",
      "        tag = \"\"\n",
      "        Loc = \"\"\n",
      "        Dat = \"\"\n",
      "        Tim = \"\"\n",
      "        Cat = \"\"\n",
      "        scrapedate = datetime.date.today()\n",
      "    # Insert values in db\n",
      "    vals = [ ( url ,\n",
      "             str(Dat) ,\n",
      "             Loc ,\n",
      "             lon ,\n",
      "             lat ,\n",
      "             tag , \n",
      "             text ,\n",
      "             ver ,\n",
      "             Cat ,\n",
      "             str(Tim) ,\n",
      "             str(scrapedate) ) ]\n",
      "    # Return\n",
      "    return(vals)\n",
      "\n",
      "'''\n",
      "+++ HELPER FUNCTIONS +++\n",
      "'''\n",
      "\n",
      "'''\n",
      "FUNCTION 3 : create the URLs for the scraper\n",
      "    Parameters : \n",
      "        lower_range : integer\n",
      "            Low end of the page number (lower == more recent). Should be set at 1\n",
      "        upper_range : integer\n",
      "            High end of the page number (higher == less recent).\n",
      "'''\n",
      "\n",
      "def naijaPages(lower_range, upper_range):\n",
      "    pages = range(lower_range,upper_range)\n",
      "    urls = [ 'http://reclaimnaija.net/reports?page={}'.format(str(p)) \n",
      "             for p in pages ]\n",
      "    return(urls)\n",
      "\n",
      "'''\n",
      "FUNCTION 4 : create the SQLite database and commit headers\n",
      "    Parameters :\n",
      "        dbname \t  : string\n",
      "            name of the database\n",
      "        tablename : string\n",
      "            name of the table in which to store results\n",
      "        path  : string\n",
      "            path to store database. Defaults to '/home/vagrant/Documents/'\n",
      "'''\n",
      "\n",
      "def naijadbSetup(dbname, tablename, path = '~/desktop', override = \"TRUE\"):\n",
      "    # Want to replace the database?\n",
      "    if override == 'TRUE':\n",
      "        os.chdir(path)\n",
      "        con = lite.connect(dbname + '.db')\n",
      "        cur = con.cursor()\n",
      "        # send headers and create table\n",
      "        cur.execute(\"DROP TABLE IF EXISTS {};\".format(tablename))\n",
      "        cur.execute(\"CREATE TABLE {}(URL TEXT, Date TEXT, Location TEXT, Longitude REAL, Latitude REAL, Title TEXT, Report TEXT, Verified TEXT, Category TEXT, Time TEXT, Scrapedate TEXT)\".format(tablename))\n",
      "        # Commit\n",
      "        con.commit()\n",
      "    else:\n",
      "        print \"A database with the name {} already exists for path {}. You specified the override option to be {}. The database will be left alone . . . yay!\".format(dbname, path, str(override))\n",
      "\n",
      "'''\n",
      "FUNCTION 5 : Insert results form each page to the database\n",
      "    Parameters :\n",
      "        values_list : list \n",
      "            list of values to send to the database\n",
      "        dbname      : string\n",
      "            name of the database\n",
      "        tablename   : string\n",
      "            name of the table in which to store results\n",
      "        path        : string\n",
      "            path to the database. Defaults to '/home/vagrant/Documents/'\n",
      "'''\n",
      "\n",
      "def naijadbInsert(values_list, dbname, tablename , path = '~/desktop/'):\n",
      "    os.chdir(path)\n",
      "    try:\n",
      "        con = lite.connect(dbname + '.db') \n",
      "        with con:  \n",
      "            # Cursor file\n",
      "            cur = con.cursor()\n",
      "            # Write values to db\n",
      "            cur.executemany(\"INSERT INTO {} (URL, Date, Location, Longitude, Latitude, Title, Report, Verified, Category, Time , Scrapedate) VALUES(?, ?, ?, ?, ?, ?, ?, ?, ?, ?, ?);\".format(tablename), vals)\n",
      "            # Commit (i.e. save) changes\n",
      "            con.commit()\n",
      "            # Close connection\n",
      "            con.close()\n",
      "    except:\n",
      "        print values_list\n",
      "        print \"SQL: There was a problem while inserting the values into the SQLite database for url {}. Check the traceback for errors . . .\".format(values_list[0])\n",
      "        \n",
      "'''\n",
      "FUNCTION 6 : Set up the logger file\n",
      "    Parameters :\n",
      "        logname : string\n",
      "            name of the log file\n",
      "'''\n",
      "\n",
      "def naijaLogging(logname):\n",
      "    log_dir =  logname + '.log'\n",
      "    log_level = 'info'\n",
      "\n",
      "    logger = logging.getLogger(logname)\n",
      "\n",
      "    if log_level == 'info':\n",
      "        logger.setLevel(logging.INFO)\n",
      "    elif log_level == 'warning':\n",
      "        logger.setLevel(logging.WARNING)\n",
      "    elif log_level == 'error':\n",
      "        logger.setlevel(logging.ERROR)\n",
      "    elif log_level == 'debug':\n",
      "        logger.setlevel(logging.DEBUG)\n",
      "\n",
      "    if log_dir:\n",
      "        fh = logging.FileHandler(log_dir, 'a')\n",
      "    else:\n",
      "        fh = logging.FileHandler( logname + '.log', 'a')\n",
      "    formatter = logging.Formatter('%(levelname)s; %(asctime)s; %(message)s')\n",
      "    fh.setFormatter(formatter)\n",
      "\n",
      "    logger.addHandler(fh)\n",
      "    \n",
      "'''\n",
      "FUNCTION 7 : Helper function to retrieve longitude and latitude \n",
      "    parameters :\n",
      "        soup_object  :  A BeautifulSoup instance\n",
      "            Soup object from the report url\n",
      "'''\n",
      "\n",
      "def naijaLocs(soup_object):\n",
      "    # Found the Lon/Lat combination. Not pretty, but oh well . . . \n",
      "    lonlat = re.findall('var myPoint = new OpenLayers.LonLat[(\\d)., ]*', string = soup_object.text)[0].strip('var myPoint = new OpenLayers.LonLat')\n",
      "    lon = lonlat.split(',')[0].strip('( ')\n",
      "    lat = lonlat.split(',')[1].strip(' )')\n",
      "    return(float(lon), float(lat))\n",
      "\n",
      "'''\n",
      "FUNCTION 8 : Helper function to check if the database already exists. If exists, then don't make a new one (unless you specified to overwrite the database)\n",
      "    parameters :\n",
      "        path : string\n",
      "            path to the database\n",
      "        tablename : string\n",
      "            name of the SQLite database\n",
      "        \n",
      "'''\n",
      "\n",
      "def naijadbExists(path, dbname):\n",
      "    if path.endswith('/'):\n",
      "        ret = os.path.isfile(path + dbname) \n",
      "        return(ret)\n",
      "    else:\n",
      "        ret = os.path.isfile(path + '/' + dbname)\n",
      "        return(ret)\n",
      "\n",
      "'''\n",
      "+++ RUN +++\n",
      "'''\n",
      "\n",
      "def main(lower_range, upper_range, dbname, tablename, logname, path = \"~/desktop/\", override = 'FALSE'):\n",
      "    # Check if database exists in given path\n",
      "    dbE = naijadbExists(path, dbname)\n",
      "    if dbE == True and override == 'FALSE':\n",
      "        naijadbSetup(dbname, tablename, path = path, override = override)\n",
      "    else: \n",
      "        # setup the database\n",
      "        naijadbSetup(dbname, tablename, path = path, override = override)\n",
      "    # Set up logging file (ends up in same directory as database)\n",
      "    naijaLogging(logname)\n",
      "    \n",
      "    '''\n",
      "    Scraping\n",
      "    '''\n",
      "    \n",
      "    # Run naijaPages function\n",
      "    pages = naijaPages(lower_range, upper_range)\n",
      "    # For each page, do . . . \n",
      "    for page in pages:\n",
      "        # Take urls from the index\n",
      "        indUrls = naijaIndex(page)\n",
      "        # For each indexed url, do . . . \n",
      "        for url in indUrls:\n",
      "            vals = naijaReport(url)\n",
      "            naijadbInsert(vals, dbname, tablename, path = path)"
     ],
     "language": "python",
     "metadata": {},
     "outputs": [],
     "prompt_number": 161
    },
    {
     "cell_type": "code",
     "collapsed": false,
     "input": [
      "pages = pageMaker(2,3)\n",
      "print pages"
     ],
     "language": "python",
     "metadata": {},
     "outputs": [
      {
       "output_type": "stream",
       "stream": "stdout",
       "text": [
        "['http://reclaimnaija.net/reports?page=2']\n"
       ]
      }
     ],
     "prompt_number": 87
    },
    {
     "cell_type": "code",
     "collapsed": false,
     "input": [
      "main(1, 2, 'NAIJA_sec', 'NAIJA_tab', 'NAIJA', path = '/users/jasper/documents/github.projects/reclaimnaija/data/', override = 'TRUE')"
     ],
     "language": "python",
     "metadata": {},
     "outputs": [
      {
       "output_type": "stream",
       "stream": "stdout",
       "text": [
        "[(u'http://reclaimnaija.net/reports/view/10020', '2014-12-07', u'Lagos', 3.39583, 6.45306, u'IRREGULAR REGISTRATION', u'In Alimosho/Ayobo, there are about 5 polling Units : Olorunishola , Aduronigbangba , Ijon , Ishefun , Promise Land. But \"INEC\" in their own Wisdom decided to Jampack all Registers to \"Aduronigbangba\" with just 2 ad-hoc Staff to Conduct. Help us beg Them to bring more Staffs.', u'Unverified ', u'Absence of INEC officials / Security Personnel', '20:08', '2015-02-05')]\n",
        "SQL: There was a problem while inserting the values into the SQLite database for url (u'http://reclaimnaija.net/reports/view/10020', '2014-12-07', u'Lagos', 3.39583, 6.45306, u'IRREGULAR REGISTRATION', u'In Alimosho/Ayobo, there are about 5 polling Units : Olorunishola , Aduronigbangba , Ijon , Ishefun , Promise Land. But \"INEC\" in their own Wisdom decided to Jampack all Registers to \"Aduronigbangba\" with just 2 ad-hoc Staff to Conduct. Help us beg Them to bring more Staffs.', u'Unverified ', u'Absence of INEC officials / Security Personnel', '20:08', '2015-02-05'). Check the traceback for errors . . .\n",
        "[(u'http://reclaimnaija.net/reports/view/10019', '2014-11-13', u'Ota Ogun State', 6.965332, 7.689217, u'2014 Voters Registration Centres in Ota, Ogun State', u'Pls where are the centres for fresh voter registration in Ota/Canaanland area of Ogun State.', u'Unverified ', u'No Registration', '20:44', '2015-02-05')]"
       ]
      },
      {
       "output_type": "stream",
       "stream": "stdout",
       "text": [
        "\n",
        "SQL: There was a problem while inserting the values into the SQLite database for url (u'http://reclaimnaija.net/reports/view/10019', '2014-11-13', u'Ota Ogun State', 6.965332, 7.689217, u'2014 Voters Registration Centres in Ota, Ogun State', u'Pls where are the centres for fresh voter registration in Ota/Canaanland area of Ogun State.', u'Unverified ', u'No Registration', '20:44', '2015-02-05'). Check the traceback for errors . . .\n",
        "[(u'http://reclaimnaija.net/reports/view/9655', '2014-08-09', u'Osun State', 4.562443, 7.587584, u'Accreditation not well monitored', u'Accreditation not well monitored, queue disturbed,voters harrasment. 29/06/09\\ufffd05. At boripe lgt, bhs iree osun state.', u'Unverified ', u'Others', '22:50', '2015-02-05')]"
       ]
      },
      {
       "output_type": "stream",
       "stream": "stdout",
       "text": [
        "\n",
        "SQL: There was a problem while inserting the values into the SQLite database for url (u'http://reclaimnaija.net/reports/view/9655', '2014-08-09', u'Osun State', 4.562443, 7.587584, u'Accreditation not well monitored', u'Accreditation not well monitored, queue disturbed,voters harrasment. 29/06/09\\ufffd05. At boripe lgt, bhs iree osun state.', u'Unverified ', u'Others', '22:50', '2015-02-05'). Check the traceback for errors . . .\n",
        "[(u'http://reclaimnaija.net/reports/view/9643', '2014-08-09', u'OLORUNDA, OSUN', 4.564719, 7.785609, u'PDP AGENT DELAYING ELECTORAL PROCESS IN PU:013', u'PDP party agent is delaying electoral process There is fire on mountain because is not conform with electoral act at P.U 027/01/013 in Olohunda LGA, Osun State', u'Unverified ', u'Disruption of voting by party loyalists/thugs/angry citizens', '22:33', '2015-02-05')]"
       ]
      },
      {
       "output_type": "stream",
       "stream": "stdout",
       "text": [
        "\n",
        "SQL: There was a problem while inserting the values into the SQLite database for url (u'http://reclaimnaija.net/reports/view/9643', '2014-08-09', u'OLORUNDA, OSUN', 4.564719, 7.785609, u'PDP AGENT DELAYING ELECTORAL PROCESS IN PU:013', u'PDP party agent is delaying electoral process There is fire on mountain because is not conform with electoral act at P.U 027/01/013 in Olohunda LGA, Osun State', u'Unverified ', u'Disruption of voting by party loyalists/thugs/angry citizens', '22:33', '2015-02-05'). Check the traceback for errors . . .\n",
        "[(u'http://reclaimnaija.net/reports/view/9640', '2014-08-09', u'SABGA, EDE, OSUN', 4.433333, 7.733333, u'NO INEC OFFICIAL AT PU 13/07/02/08', u'No INEC staff yet as at 10.20 a.m at PU:13/07/02/08 in Abogunde sabga LGA Ede north osun stata', u'Unverified ', u'Absence of INEC Officials', '22:24', '2015-02-05')]"
       ]
      },
      {
       "output_type": "stream",
       "stream": "stdout",
       "text": [
        "\n",
        "SQL: There was a problem while inserting the values into the SQLite database for url (u'http://reclaimnaija.net/reports/view/9640', '2014-08-09', u'SABGA, EDE, OSUN', 4.433333, 7.733333, u'NO INEC OFFICIAL AT PU 13/07/02/08', u'No INEC staff yet as at 10.20 a.m at PU:13/07/02/08 in Abogunde sabga LGA Ede north osun stata', u'Unverified ', u'Absence of INEC Officials', '22:24', '2015-02-05'). Check the traceback for errors . . .\n",
        "[(u'http://reclaimnaija.net/reports/view/9634', '2014-08-09', u'osun state', 4.562443, 7.587584, u'accreditation going smoothly', u'from 29/21/03/005. ode agbon open space, ode agbon ikire. as at 10:07am the accreditation was started already and the security officer are four in number and the inec officer are three in number, two are male and one is female. it was a peaceful accreditation. the total number of registered voters card are 396', u'Unverified ', u'What went well', '22:09', '2015-02-05')]"
       ]
      },
      {
       "output_type": "stream",
       "stream": "stdout",
       "text": [
        "\n",
        "SQL: There was a problem while inserting the values into the SQLite database for url (u'http://reclaimnaija.net/reports/view/9634', '2014-08-09', u'osun state', 4.562443, 7.587584, u'accreditation going smoothly', u'from 29/21/03/005. ode agbon open space, ode agbon ikire. as at 10:07am the accreditation was started already and the security officer are four in number and the inec officer are three in number, two are male and one is female. it was a peaceful accreditation. the total number of registered voters card are 396', u'Unverified ', u'What went well', '22:09', '2015-02-05'). Check the traceback for errors . . .\n",
        "[(u'http://reclaimnaija.net/reports/view/9627', '2014-08-09', u'OSUN', 4.562443, 7.587584, u'LOST PVC', u'9:50AM. A MAN CAME WITH AFFIDAFIT OF PVC FOR ACCREDITATION BUT INEC OFFCER SAID NO PU:29/21/02/003', u'Unverified ', u'NAIJA VOICES', '22:01', '2015-02-05')]"
       ]
      },
      {
       "output_type": "stream",
       "stream": "stdout",
       "text": [
        "\n",
        "SQL: There was a problem while inserting the values into the SQLite database for url (u'http://reclaimnaija.net/reports/view/9627', '2014-08-09', u'OSUN', 4.562443, 7.587584, u'LOST PVC', u'9:50AM. A MAN CAME WITH AFFIDAFIT OF PVC FOR ACCREDITATION BUT INEC OFFCER SAID NO PU:29/21/02/003', u'Unverified ', u'NAIJA VOICES', '22:01', '2015-02-05'). Check the traceback for errors . . .\n",
        "[(u'http://reclaimnaija.net/reports/view/9620', '2014-08-09', u'EJIGBO, OSUN', 4.315, 7.9, u'ACCREDITATION IN PROGRESS IN AGURODO', u'In Agurodo P.U 6 Accreditation is in progress . Electorates are on que without stress at9.38 W6 Agurodo. Ejigbo L G Olojede Ojebowale', u'Unverified ', u'What went well', '21:51', '2015-02-05')]"
       ]
      },
      {
       "output_type": "stream",
       "stream": "stdout",
       "text": [
        "\n",
        "SQL: There was a problem while inserting the values into the SQLite database for url (u'http://reclaimnaija.net/reports/view/9620', '2014-08-09', u'EJIGBO, OSUN', 4.315, 7.9, u'ACCREDITATION IN PROGRESS IN AGURODO', u'In Agurodo P.U 6 Accreditation is in progress . Electorates are on que without stress at9.38 W6 Agurodo. Ejigbo L G Olojede Ojebowale', u'Unverified ', u'What went well', '21:51', '2015-02-05'). Check the traceback for errors . . .\n",
        "[(u'http://reclaimnaija.net/reports/view/9619', '2014-08-09', u'Osun, Osun', 4.562443, 7.587584, u'SITUATION REPORT', u'All the 7th polling stations in Iragberi at Egbedore were peacefull and violent free.', u'Unverified ', u'NAIJA VOICES', '21:46', '2015-02-05')]"
       ]
      },
      {
       "output_type": "stream",
       "stream": "stdout",
       "text": [
        "\n",
        "SQL: There was a problem while inserting the values into the SQLite database for url (u'http://reclaimnaija.net/reports/view/9619', '2014-08-09', u'Osun, Osun', 4.562443, 7.587584, u'SITUATION REPORT', u'All the 7th polling stations in Iragberi at Egbedore were peacefull and violent free.', u'Unverified ', u'NAIJA VOICES', '21:46', '2015-02-05'). Check the traceback for errors . . .\n",
        "[(u'http://reclaimnaija.net/reports/view/9615', '2014-08-09', u'Ede South, OSUN', 4.433333, 7.733333, u'ACCREDITATION IS ON GOING AND PEACEFUL AT PU 001, WARD 2', u'Accreditation smoothly at PU 001, ward 1, Ede North as 9:40am but there are few people at the unit', u'Unverified ', u'What went well', '21:44', '2015-02-05')]"
       ]
      },
      {
       "output_type": "stream",
       "stream": "stdout",
       "text": [
        "\n",
        "SQL: There was a problem while inserting the values into the SQLite database for url (u'http://reclaimnaija.net/reports/view/9615', '2014-08-09', u'Ede South, OSUN', 4.433333, 7.733333, u'ACCREDITATION IS ON GOING AND PEACEFUL AT PU 001, WARD 2', u'Accreditation smoothly at PU 001, ward 1, Ede North as 9:40am but there are few people at the unit', u'Unverified ', u'What went well', '21:44', '2015-02-05'). Check the traceback for errors . . .\n"
       ]
      }
     ],
     "prompt_number": 162
    },
    {
     "cell_type": "code",
     "collapsed": false,
     "input": [
      "vals = [('suck', '2014-08-09', u'Ede South, OSUN', str(4.433333), str(7.733333), u'ACCREDITATION IS ON GOING AND PEACEFUL AT PU 001, WARD 2', u'Accreditation smoothly at PU 001, ward 1, Ede North as 9:40am but there are few people at the unit', u'Unverified ', u'What went well', '21:44', '2015-02-05')]\n"
     ],
     "language": "python",
     "metadata": {},
     "outputs": [],
     "prompt_number": 158
    },
    {
     "cell_type": "code",
     "collapsed": false,
     "input": [
      "#naijadbInsert(vals, 'NAIJA_sec', \"NAIJA_tab\", path = '/users/jasper/documents/github.projects/reclaimnaija/data/')\n",
      "path = '/users/jasper/documents/github.projects/reclaimnaija/data/'\n",
      "con = lite.connect(path + 'NAIJA_sec' + '.db') \n",
      "\n",
      "tablename = \"NAIJA_tab\"\n",
      "with con:  \n",
      "    # Cursor file\n",
      "    cur = con.cursor()\n",
      "    # Write values to db\n",
      "    cur.executemany(\"INSERT INTO {} (URL, Date, Location, Longitude, Latitude, Title, Report, Verified, Category, Time , Scrapedate) VALUES(?, ?, ?, ?, ?, ?, ?, ?, ?, ?, ?);\".format(tablename), vals)\n",
      "    # Commit (i.e. save) changes\n",
      "    con.commit()\n",
      "    # Close connection\n",
      "    con.close()"
     ],
     "language": "python",
     "metadata": {},
     "outputs": [
      {
       "ename": "ProgrammingError",
       "evalue": "Cannot operate on a closed database.",
       "output_type": "pyerr",
       "traceback": [
        "\u001b[0;31m---------------------------------------------------------------------------\u001b[0m\n\u001b[0;31mProgrammingError\u001b[0m                          Traceback (most recent call last)",
        "\u001b[0;32m<ipython-input-160-9a9e3b34bb9b>\u001b[0m in \u001b[0;36m<module>\u001b[0;34m()\u001b[0m\n\u001b[1;32m     12\u001b[0m     \u001b[0mcon\u001b[0m\u001b[0;34m.\u001b[0m\u001b[0mcommit\u001b[0m\u001b[0;34m(\u001b[0m\u001b[0;34m)\u001b[0m\u001b[0;34m\u001b[0m\u001b[0m\n\u001b[1;32m     13\u001b[0m     \u001b[0;31m# Close connection\u001b[0m\u001b[0;34m\u001b[0m\u001b[0;34m\u001b[0m\u001b[0m\n\u001b[0;32m---> 14\u001b[0;31m     \u001b[0mcon\u001b[0m\u001b[0;34m.\u001b[0m\u001b[0mclose\u001b[0m\u001b[0;34m(\u001b[0m\u001b[0;34m)\u001b[0m\u001b[0;34m\u001b[0m\u001b[0m\n\u001b[0m",
        "\u001b[0;31mProgrammingError\u001b[0m: Cannot operate on a closed database."
       ]
      }
     ],
     "prompt_number": 160
    },
    {
     "cell_type": "code",
     "collapsed": false,
     "input": [
      "print vals"
     ],
     "language": "python",
     "metadata": {},
     "outputs": [
      {
       "output_type": "stream",
       "stream": "stdout",
       "text": [
        "[u'http://reclaimnaija.net/reports/view/9615', '2014-08-09', u'Ede South, OSUN', 4.433333, 7.733333, u'ACCREDITATION IS ON GOING AND PEACEFUL AT PU 001, WARD 2', u'Accreditation smoothly at PU 001, ward 1, Ede North as 9:40am but there are few people at the unit', u'Unverified ', u'What went well', '21:44', '2015-02-05']\n"
       ]
      }
     ],
     "prompt_number": 135
    },
    {
     "cell_type": "code",
     "collapsed": false,
     "input": [
      "page = pageMaker(2,3)\n",
      "pages = naijaIndex(page[0])\n",
      "print pages"
     ],
     "language": "python",
     "metadata": {},
     "outputs": [
      {
       "output_type": "stream",
       "stream": "stdout",
       "text": [
        "[u'http://reclaimnaija.net/reports/view/9581', u'http://reclaimnaija.net/reports/view/9512', u'http://reclaimnaija.net/reports/view/10018', u'http://reclaimnaija.net/reports/view/10017', u'http://reclaimnaija.net/reports/view/10012', u'http://reclaimnaija.net/reports/view/10013', u'http://reclaimnaija.net/reports/view/10006', u'http://reclaimnaija.net/reports/view/10009', u'http://reclaimnaija.net/reports/view/10010', u'http://reclaimnaija.net/reports/view/10007']\n"
       ]
      }
     ],
     "prompt_number": 90
    },
    {
     "cell_type": "code",
     "collapsed": false,
     "input": [
      "res = [ naijaReport(p) \n",
      "        for p in pages ]\n",
      "print res"
     ],
     "language": "python",
     "metadata": {},
     "outputs": [
      {
       "output_type": "stream",
       "stream": "stdout",
       "text": [
        "[[u'http://reclaimnaija.net/reports/view/9581', datetime.date(2014, 8, 9), u'Osun State', 4.562443, 7.587584, u'Accreditation in progress', u'8.45am. People on queue. Accreditation ongoing. security personnel on ground PU: 29/09/10/ 004 okubanjo printing press area, egbedore, osun state.', u'Unverified ', u'What Went Well', u'21:00', datetime.date(2015, 2, 5)], [u'http://reclaimnaija.net/reports/view/9512', datetime.date(2014, 8, 9), u'Olorunda, Osun State', 4.564719, 7.785609, u'Early Arrival of INEC Officials', u'6:50 a.m 5 polling Officials arrived.PU: 29/27/001/005B.C&S Pry School,Olorunda,Osun State', u'Unverified ', u'What went well', u'19:25', datetime.date(2015, 2, 5)], [u'http://reclaimnaija.net/reports/view/10018', datetime.date(2014, 8, 9), u'Irewole, Osun', 4.566507, 7.788432, u'ELECTION RESULT FROM IRE-WOLE, IKIRE, OSUN', u'PPA 1, AA2 ,APA2, NCP1, ACPN2, ADC2, AD2, LABOUR2, PDP74, APC178, Rejected 9. Dis is d r\\xe9sult of ward4 unit6 in irewole local G.', u'Unverified ', u'ELECTION RESULTS', u'17:25', datetime.date(2015, 2, 5)], [u'http://reclaimnaija.net/reports/view/10017', datetime.date(2014, 8, 9), u'osun state', 4.562443, 7.587584, u'Election result', u'TOTAL ACCREDITED VOTERS IS 223, TOTAL VOTES CAST 218, VOID 4. ACPN 3, APA 1,APC 148, PDP 66,AT 05:19 PU 05/W.02/LG01/S.29', u'Unverified ', u'ELECTION RESULTS', u'17:24', datetime.date(2015, 2, 5)], [u'http://reclaimnaija.net/reports/view/10012', datetime.date(2014, 8, 9), u'Osun, Osun', 4.562443, 7.587584, u'COUNTING ENDS AT PU 29/26/5/001, OSUN', u'The counting process ends at 5:03 pm at PU:29/26/5/001.AKINDELE AKINWALE', u'Unverified ', u'ELECTION RESULTS', u'17:18', datetime.date(2015, 2, 5)], [u'http://reclaimnaija.net/reports/view/10013', datetime.date(2014, 8, 9), u'Osun State', 4.562443, 7.587584, u'Results', u'5:12PM.INEC OFFICER HAVE PASTED RESULT ON THE WALL & GAVE THE DUPLICATES COPY OF RESULT TO EACH PARTY AGENT & SECURITY PU:29/21/02/003', u'Unverified ', u'ELECTION RESULTS', u'17:18', datetime.date(2015, 2, 5)], [u'http://reclaimnaija.net/reports/view/10006', datetime.date(2014, 8, 9), u'osun state', 4.562443, 7.587584, u'election result', u'AD=01 -ACPN= 4-APC=209- LP=07-PDP=156 - PPA=01-PPN=1@ word 5 unit 1.... Invalid vote 9', u'Unverified ', u'ELECTION RESULTS', u'17:13', datetime.date(2015, 2, 5)], [u'http://reclaimnaija.net/reports/view/10009', datetime.date(2014, 8, 9), u'Osun, Osun', 4.562443, 7.587584, u'RESULT FROM PU OS/25/15/005, OSUN', u'5:10 p.m.total Votes casted 269. PU. OS/25/15/005.', u'Unverified ', u'ELECTION RESULTS', u'17:13', datetime.date(2015, 2, 5)], [u'http://reclaimnaija.net/reports/view/10010', datetime.date(2014, 8, 9), u'osun state', 4.562443, 7.587584, u'Election result', u'Pu:003: ward . 11 . L. G: odo- otin. The results are as follow: a p c: 128 p d p: 97 l p: 06. A. A: 1 . Apga: 01 total: 233 .', u'Unverified ', u'ELECTION RESULTS', u'17:12', datetime.date(2015, 2, 5)], [u'http://reclaimnaija.net/reports/view/10007', datetime.date(2014, 8, 9), u'MODAKEKE, OSUN', 4.543855, 7.477198, u'ELECTION RESULTS', u'4:59pm: Election results for unit 2-PDP:59,APC:173,APGA:02,A:01,AA:01,ACPN:05,ADC:05,APA:02,CPP:04,LP:02,NCP:01,NCP:01,PPA:01,SDP:02:ADP:03 at PU: 29/13/009/009 in Primary Health Centre(Ife east area office),Modakeke Osun state.', u'Unverified ', u'ELECTION RESULTS', u'17:10', datetime.date(2015, 2, 5)]]\n"
       ]
      }
     ],
     "prompt_number": 91
    },
    {
     "cell_type": "code",
     "collapsed": false,
     "input": [
      "print res[0]"
     ],
     "language": "python",
     "metadata": {},
     "outputs": [
      {
       "output_type": "stream",
       "stream": "stdout",
       "text": [
        "[u'http://reclaimnaija.net/reports/view/9581', datetime.date(2014, 8, 9), u'Osun State', 4.562443, 7.587584, u'Accreditation in progress', u'8.45am. People on queue. Accreditation ongoing. security personnel on ground PU: 29/09/10/ 004 okubanjo printing press area, egbedore, osun state.', u'Unverified ', u'What Went Well', u'21:00', datetime.date(2015, 2, 5)]\n"
       ]
      }
     ],
     "prompt_number": 92
    },
    {
     "cell_type": "code",
     "collapsed": false,
     "input": [
      "u = requests.get('http://reclaimnaija.net/reports/view/9655').text\n",
      "soup = BeautifulSoup(u, \"html.parser\")\n",
      "# Details\n",
      "text = ' '.join(soup.find('div',{'class':'report-description'}).find('div',{'class':'content'}).contents[0].split())\n",
      "print text\n",
      "reportD = soup.find('div',{'class':'report-details'})\n",
      "# Verified?\n",
      "ver = reportD.find('div',{'class':'verified'}).text\n",
      "print ver\n",
      "# tag\n",
      "tag = reportD.find('h1').text\n",
      "print tag\n",
      "# Details\n",
      "det = reportD.find('ul',{'class':'details'}).findAll('li')\n",
      "Loc = ' '.join(det[0].contents[2].split())\n",
      "print Loc\n",
      "Dat = datetime.datetime.strptime(' '.join(det[1].contents[2].split()),'%b %d %Y').date()\n",
      "print str(Dat)\n",
      "Tim = ' '.join(det[2].contents[2].split())\n",
      "print Tim\n",
      "Cat = ' '.join(det[3].find('a').text.split())\n",
      "print Cat\n",
      "scrapedate = datetime.date.today()\n",
      "print str(scrapedate)"
     ],
     "language": "python",
     "metadata": {},
     "outputs": [
      {
       "output_type": "stream",
       "stream": "stdout",
       "text": [
        "Accreditation not well monitored, queue disturbed,voters harrasment. 29/06/09\ufffd05. At boripe lgt, bhs iree osun state.\n",
        "Unverified \n",
        "Accreditation not well monitored\n",
        "Osun State\n",
        "2014-08-09\n",
        "22:50\n",
        "Others\n",
        "2015-02-05\n"
       ]
      }
     ],
     "prompt_number": 113
    },
    {
     "cell_type": "code",
     "collapsed": false,
     "input": [
      "print naijaLocs(s)"
     ],
     "language": "python",
     "metadata": {},
     "outputs": [
      {
       "output_type": "stream",
       "stream": "stdout",
       "text": [
        "4.562443\n"
       ]
      }
     ],
     "prompt_number": 92
    },
    {
     "cell_type": "code",
     "collapsed": false,
     "input": [
      "# For json.dumps\n",
      "# http://reclaimnaija.net/json/single/9655"
     ],
     "language": "python",
     "metadata": {},
     "outputs": []
    }
   ],
   "metadata": {}
  }
 ]
}