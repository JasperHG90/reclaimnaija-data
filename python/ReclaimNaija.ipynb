{
 "metadata": {
  "name": "",
  "signature": "sha256:17d89bb92fb0d3bc49b7ba0f7841029a2f4ca66837379458aa08e21bf7832191"
 },
 "nbformat": 3,
 "nbformat_minor": 0,
 "worksheets": [
  {
   "cells": [
    {
     "cell_type": "code",
     "collapsed": false,
     "input": [
      "'''\n",
      "This script scrapes information about harrassment at the Nigerian 2011 & 2015 elections from www.reclamnaija.com \n",
      "Written by : Jasper Ginn & Johanna Renz\n",
      "Date : 25-01-2015\n",
      "Last modified : 04-02-2015\n",
      "Please send suggestions/comments to : Jasperginn@hotmail.com | Johannarenz@hotmail.de\n",
      "\n",
      "STILL TO IMPLEMENT:\n",
      "    (1) range for scraping - possibly date, years etc. (low priority)\n",
      "    (2) Implement function that looks for possible duplicates in SQL database\n",
      "'''\n",
      "\n",
      "# --------------------------------------------------------------------------------\n",
      "\n",
      "'''\n",
      "Import modules\n",
      "'''\n",
      "\n",
      "# Import os\n",
      "import os\n",
      "# BeautifulSoup\n",
      "from bs4 import BeautifulSoup\n",
      "# Logging\n",
      "import logging\n",
      "# requests\n",
      "import requests\n",
      "# Import SQLite\n",
      "import sqlite3 as lite\n",
      "# Import regex\n",
      "import re\n",
      "# Import datetime\n",
      "import datetime\n",
      "# Import os.path (to check if db exists)\n",
      "import os.path\n",
      "\n",
      "'''\n",
      "+++ MAIN FUNCTIONS +++\n",
      "'''\n",
      "    \n",
      "'''\n",
      "FUNCTION 1 : function that captures the index of all urls on each page\n",
      "    parameters : \n",
      "        url  :  string\n",
      "            url of the index page.\n",
      "'''\n",
      "\n",
      "def naijaIndex(url):\n",
      "    page = requests.get(url).text\n",
      "    soup = BeautifulSoup(page, \"html.parser\")\n",
      "    # Identify the table which holds the values of interest.\n",
      "    table = soup.find('div',{'class':'big-block'})\n",
      "    # isolate reports\n",
      "    Naija = table.findAll('div',{'class':'report_row1'})\n",
      "    urls = [ N.find('div',{'class':'report_details report_col2'}).find('a').get('href') \n",
      "            for N in Naija ]\n",
      "    return(urls)\n",
      "        \n",
      "'''\n",
      "FUNCTION 2 : Function that scrapes results from each individual page and stores it in the database\n",
      "    parameters : \n",
      "        url  :  string\n",
      "            url pointing towards the individual report\n",
      "'''\n",
      "\n",
      "def naijaReport(url):\n",
      "    soup = BeautifulSoup(requests.get(url).text)\n",
      "    # Lon / Lat\n",
      "    try:\n",
      "        geo = naijaLocs(soup)\n",
      "        lon = geo[0]\n",
      "        lat = geo[1]\n",
      "    except:\n",
      "        print('GEO: There occurred an error while extracting the geolocations for url {}. Check the log for issues . . . '.format(url))\n",
      "        lon = \"\"\n",
      "        lat = \"\"\n",
      "    try:\n",
      "        # report\n",
      "        text = ' '.join(soup.find('div',{'class':'report-description'}).find('div',{'class':'content'}).contents[0].split())\n",
      "    except: \n",
      "        print(\"COMPLAINT: There occurred an error while scraping the report for url {}. Please check the log for issues . . . \".format(url))\n",
      "        text = \"\"\n",
      "    try:\n",
      "        # Details\n",
      "        text = ' '.join(soup.find('div',{'class':'report-description'}).find('div',{'class':'content'}).contents[0].split())\n",
      "        reportD = soup.find('div',{'class':'report-details'})\n",
      "        # Verified?\n",
      "        ver = reportD.find('div',{'class':'verified'}).text\n",
      "        # tag\n",
      "        tag = reportD.find('h1').text\n",
      "        # Details\n",
      "        det = reportD.find('ul',{'class':'details'}).findAll('li')\n",
      "        Loc = ' '.join(det[0].contents[2].split())\n",
      "        Dat = datetime.datetime.strptime(' '.join(det[1].contents[2].split()),'%b %d %Y').date()\n",
      "        Tim = ' '.join(det[2].contents[2].split())\n",
      "        Cat = ' '.join(det[3].find('a').text.split())\n",
      "        scrapedate = datetime.date.today()\n",
      "    except:\n",
      "        print 'DETAILS: There occurred an error while scraping the details for url {}. Please check the log for issues . . . '.format(url)\n",
      "        ver = \"\"\n",
      "        tag = \"\"\n",
      "        Loc = \"\"\n",
      "        Dat = \"\"\n",
      "        Tim = \"\"\n",
      "        Cat = \"\"\n",
      "        scrapedate = datetime.date.today()\n",
      "    # Insert values in db\n",
      "    vals = [ ( url ,\n",
      "             str(Dat) ,\n",
      "             Loc ,\n",
      "             lon ,\n",
      "             lat ,\n",
      "             tag , \n",
      "             text ,\n",
      "             ver ,\n",
      "             Cat ,\n",
      "             str(Tim) ,\n",
      "             str(scrapedate) ) ]\n",
      "    # Return\n",
      "    return(vals)\n",
      "\n",
      "'''\n",
      "+++ HELPER FUNCTIONS +++\n",
      "'''\n",
      "\n",
      "'''\n",
      "FUNCTION 3 : create the URLs for the scraper\n",
      "    Parameters : \n",
      "        lower_range : integer\n",
      "            Low end of the page number (lower == more recent). Should be set at 1\n",
      "        upper_range : integer\n",
      "            High end of the page number (higher == less recent).\n",
      "'''\n",
      "\n",
      "def naijaPages(lower_range, upper_range):\n",
      "    pages = range(lower_range,upper_range)\n",
      "    urls = [ 'http://reclaimnaija.net/reports?page={}'.format(str(p)) \n",
      "             for p in pages ]\n",
      "    return(urls)\n",
      "\n",
      "'''\n",
      "FUNCTION 4 : create the SQLite database and commit headers\n",
      "    Parameters :\n",
      "        dbname \t  : string\n",
      "            name of the database\n",
      "        tablename : string\n",
      "            name of the table in which to store results\n",
      "        path  : string\n",
      "            path to store database. Defaults to '/home/vagrant/Documents/'\n",
      "'''\n",
      "\n",
      "def naijadbSetup(dbname, tablename, path = '~/desktop', override = \"TRUE\"):\n",
      "    # Want to replace the database?\n",
      "    if override == 'TRUE':\n",
      "        pathfile = naijaPathmaker(dbname, path)\n",
      "        con = lite.connect(pathfile)\n",
      "        cur = con.cursor()\n",
      "        # send headers and create table\n",
      "        cur.execute(\"DROP TABLE IF EXISTS {};\".format(tablename))\n",
      "        cur.execute(\"CREATE TABLE {}(URL TEXT, Date TEXT, Location TEXT, Longitude REAL, Latitude REAL, Title TEXT, Report TEXT, Verified TEXT, Category TEXT, Time TEXT, Scrapedate TEXT)\".format(tablename))\n",
      "        # Commit\n",
      "        con.commit()\n",
      "    else:\n",
      "        print \"A database with the name {} already exists for path {}. You specified the override option to be {}. The database will be left alone . . . yay!\".format(dbname, path, str(override))\n",
      "\n",
      "'''\n",
      "FUNCTION 5 : Insert results form each page to the database\n",
      "    Parameters :\n",
      "        values_list : list \n",
      "            list of values to send to the database\n",
      "        dbname      : string\n",
      "            name of the database\n",
      "        tablename   : string\n",
      "            name of the table in which to store results\n",
      "        path        : string\n",
      "            path to the database. Defaults to '/home/vagrant/Documents/'\n",
      "'''\n",
      "\n",
      "def naijadbInsert(values_list, dbname, tablename , path = '~/desktop/'):\n",
      "    pathfile = naijaPathmaker(dbname, path)\n",
      "    try:\n",
      "        con = lite.connect(pathfile) \n",
      "        with con:  \n",
      "            # Cursor file\n",
      "            cur = con.cursor()\n",
      "            # Write values to db\n",
      "            cur.executemany(\"INSERT INTO {} (URL, Date, Location, Longitude, Latitude, Title, Report, Verified, Category, Time , Scrapedate) VALUES(?, ?, ?, ?, ?, ?, ?, ?, ?, ?, ?);\".format(tablename), values_list)\n",
      "            # Commit (i.e. save) changes\n",
      "            con.commit()\n",
      "        # Close connection\n",
      "        con.close()\n",
      "            \n",
      "    except:\n",
      "        print 'Error while setting up the database. Quitting the script now . . . '\n",
      "        \n",
      "'''\n",
      "FUNCTION 7 : Helper function to retrieve longitude and latitude \n",
      "    parameters :\n",
      "        soup_object  :  A BeautifulSoup instance\n",
      "            Soup object from the report url\n",
      "'''\n",
      "\n",
      "def naijaLocs(soup_object):\n",
      "    # Found the Lon/Lat combination. Not pretty, but oh well . . . \n",
      "    lonlat = re.findall('var myPoint = new OpenLayers.LonLat[(\\d)., ]*', string = soup_object.text)[0].strip('var myPoint = new OpenLayers.LonLat')\n",
      "    lon = lonlat.split(',')[0].strip('( ')\n",
      "    lat = lonlat.split(',')[1].strip(' )')\n",
      "    return(float(lon), float(lat))\n",
      "\n",
      "'''\n",
      "FUNCTION 8 : Helper function to check if the database already exists. If exists, then don't make a new one (unless you specified to overwrite the database)\n",
      "    parameters :\n",
      "        path : string\n",
      "            path to the database\n",
      "        tablename : string\n",
      "            name of the SQLite database\n",
      "        \n",
      "'''\n",
      "\n",
      "def naijadbExists(path, dbname):\n",
      "    if path.endswith('/'):\n",
      "        ret = os.path.isfile(path + dbname) \n",
      "        return(ret)\n",
      "    else:\n",
      "        ret = os.path.isfile(path + '/' + dbname)\n",
      "        return(ret)\n",
      "    \n",
      "'''\n",
      "FUNCTION 9 : Helper function to check whether a report already exists in the database. Here, we are checking the specific report URL\n",
      "(which is basically a unique ID) against all report URLs that already exist in the db.\n",
      "    parameters : \n",
      "        url : string\n",
      "            url of the specific report at reclaimnaija\n",
      "        dbname : string\n",
      "            name of the database\n",
      "        dbtable : string\n",
      "            table in which reclaimnaija results are stored\n",
      "        path : string\n",
      "            system path where the database is stored. Defaults to '~/desktop'\n",
      "'''\n",
      "\n",
      "def naijadbCheck(url, dbname, dbtable, path = '~/desktop/'):\n",
      "    pathsal = naijaPathmaker(dbname, path)\n",
      "    con = lite.connect(pathsal)\n",
      "    # Cursor file\n",
      "    with con:\n",
      "        cur = con.cursor()\n",
      "        cur.execute(\"SELECT URL FROM {} WHERE URL = ?\".format(dbtable), (url,))\n",
      "        data=cur.fetchone()\n",
      "        if data is None:\n",
      "            return(None)\n",
      "        else:\n",
      "            print('Report for url {} already in database . . . moving on'.format(url))\n",
      "            return(data[0])\n",
      "    # Close db connection\n",
      "    con.close()\n",
      "    \n",
      "'''\n",
      "FUNCTION 10 : Helper function that creates the path for the database. It evaluates whether the path specified by the user ends with\n",
      "'/'. If yes, then paste. If no, then add the '/' to avoid problems.\n",
      "    parameters :\n",
      "        dbname : string\n",
      "            name of the database\n",
      "        path : string\n",
      "            system path where the database is stored. Defaults to '~/desktop'\n",
      "'''\n",
      "\n",
      "def naijaPathmaker(dbname, path):\n",
      "    if path.endswith('/'):\n",
      "        return(path + dbname + '.db')\n",
      "    else:\n",
      "        return(path + '/' + dbname + '.db')\n",
      "\n",
      "'''\n",
      "+++ RUN +++\n",
      "'''\n",
      "\n",
      "def main(lower_range, upper_range, dbname, tablename, path = \"~/desktop/\", override = 'FALSE'):\n",
      "    \n",
      "    '''\n",
      "    Set up logger\n",
      "    '''\n",
      "    \n",
      "    log_dir = 'NAIJA.log'\n",
      "    log_level = 'info'\n",
      "\n",
      "    logger = logging.getLogger('NAIJA')\n",
      "\n",
      "    if log_level == 'info':\n",
      "        logger.setLevel(logging.INFO)\n",
      "    elif log_level == 'warning':\n",
      "        logger.setLevel(logging.WARNING)\n",
      "    elif log_level == 'error':\n",
      "        logger.setlevel(logging.ERROR)\n",
      "    elif log_level == 'debug':\n",
      "        logger.setlevel(logging.DEBUG)\n",
      "\n",
      "    if log_dir:\n",
      "        fh = logging.FileHandler(log_dir, 'a')\n",
      "    else:\n",
      "        fh = logging.FileHandler('backup.log', 'a')\n",
      "    formatter = logging.Formatter('%(levelname)s; %(asctime)s; %(message)s')\n",
      "    fh.setFormatter(formatter)\n",
      "\n",
      "    logger.addHandler(fh)\n",
      "    \n",
      "    '''\n",
      "    Preliminary\n",
      "    '''\n",
      "    \n",
      "    # Check if database exists in given path\n",
      "    dbE = naijadbExists(path, dbname)\n",
      "    if dbE == True and override == 'FALSE':\n",
      "        naijadbSetup(dbname, tablename, path = path, override = override)\n",
      "    else: \n",
      "        # setup the database\n",
      "        naijadbSetup(dbname, tablename, path = path, override = override)\n",
      "        print \"Successfully set up the database in directory {} with name {}\".format(path, dbname)\n",
      "    \n",
      "    '''\n",
      "    Scraping\n",
      "    '''\n",
      "    \n",
      "    # Run naijaPages function\n",
      "    pages = naijaPages(lower_range, upper_range)\n",
      "    # For each page, do . . . \n",
      "    for page in pages:\n",
      "        try:\n",
      "            # Take urls from the index\n",
      "            indUrls = naijaIndex(page)\n",
      "        except:\n",
      "            logger.error(\"INDEX: There was an error while extracting the urls for the individual pages from url {}.\".format(url))\n",
      "        # For each indexed url, do . . . \n",
      "        for url in indUrls:\n",
      "            print w\n",
      "            # Check if URL already in database\n",
      "            res = naijadbCheck(url, dbname, tablename, path = path)\n",
      "            if res != None and override == \"FALSE\":\n",
      "                continue\n",
      "            else:\n",
      "                try:\n",
      "                    vals = naijaReport(url)\n",
      "                    naijadbInsert(vals, dbname, tablename, path = path)\n",
      "                except:\n",
      "                    logger.error('DETAILS: There occurred an error while scraping the details for url {}.'.format(url))"
     ],
     "language": "python",
     "metadata": {},
     "outputs": [],
     "prompt_number": 51
    },
    {
     "cell_type": "code",
     "collapsed": false,
     "input": [
      "pages = pageMaker(2,3)\n",
      "print pages"
     ],
     "language": "python",
     "metadata": {},
     "outputs": [
      {
       "output_type": "stream",
       "stream": "stdout",
       "text": [
        "['http://reclaimnaija.net/reports?page=2']\n"
       ]
      }
     ],
     "prompt_number": 87
    },
    {
     "cell_type": "code",
     "collapsed": false,
     "input": [
      "main(1, 20, 'NAIJA_sec', 'NAIJA_tab', path = '/users/jasper/documents/github.projects/reclaimnaija/data/', override = 'TRUE')"
     ],
     "language": "python",
     "metadata": {},
     "outputs": [
      {
       "output_type": "stream",
       "stream": "stdout",
       "text": [
        "Successfully set up the database in directory /users/jasper/documents/github.projects/reclaimnaija/data/ with name NAIJA_sec\n",
        "1"
       ]
      },
      {
       "output_type": "stream",
       "stream": "stdout",
       "text": [
        "\n",
        "2"
       ]
      },
      {
       "output_type": "stream",
       "stream": "stdout",
       "text": [
        "\n",
        "3"
       ]
      },
      {
       "output_type": "stream",
       "stream": "stdout",
       "text": [
        "\n",
        "4"
       ]
      },
      {
       "output_type": "stream",
       "stream": "stdout",
       "text": [
        "\n",
        "5"
       ]
      },
      {
       "output_type": "stream",
       "stream": "stdout",
       "text": [
        "\n",
        "6"
       ]
      },
      {
       "output_type": "stream",
       "stream": "stdout",
       "text": [
        "\n",
        "7"
       ]
      },
      {
       "output_type": "stream",
       "stream": "stdout",
       "text": [
        "\n",
        "8"
       ]
      },
      {
       "output_type": "stream",
       "stream": "stdout",
       "text": [
        "\n",
        "9"
       ]
      },
      {
       "output_type": "stream",
       "stream": "stdout",
       "text": [
        "\n",
        "10"
       ]
      },
      {
       "output_type": "stream",
       "stream": "stdout",
       "text": [
        "\n",
        "1"
       ]
      },
      {
       "output_type": "stream",
       "stream": "stdout",
       "text": [
        "\n",
        "2"
       ]
      },
      {
       "output_type": "stream",
       "stream": "stdout",
       "text": [
        "\n",
        "3"
       ]
      },
      {
       "output_type": "stream",
       "stream": "stdout",
       "text": [
        "\n",
        "4"
       ]
      },
      {
       "output_type": "stream",
       "stream": "stdout",
       "text": [
        "\n",
        "5"
       ]
      },
      {
       "output_type": "stream",
       "stream": "stdout",
       "text": [
        "\n",
        "6"
       ]
      },
      {
       "output_type": "stream",
       "stream": "stdout",
       "text": [
        "\n",
        "7"
       ]
      },
      {
       "output_type": "stream",
       "stream": "stdout",
       "text": [
        "\n",
        "8"
       ]
      },
      {
       "output_type": "stream",
       "stream": "stdout",
       "text": [
        "\n",
        "9"
       ]
      },
      {
       "output_type": "stream",
       "stream": "stdout",
       "text": [
        "\n",
        "10"
       ]
      },
      {
       "output_type": "stream",
       "stream": "stdout",
       "text": [
        "\n",
        "1"
       ]
      },
      {
       "output_type": "stream",
       "stream": "stdout",
       "text": [
        "\n",
        "2"
       ]
      },
      {
       "output_type": "stream",
       "stream": "stdout",
       "text": [
        "\n",
        "3"
       ]
      },
      {
       "output_type": "stream",
       "stream": "stdout",
       "text": [
        "\n",
        "4"
       ]
      },
      {
       "output_type": "stream",
       "stream": "stdout",
       "text": [
        "\n",
        "5"
       ]
      },
      {
       "output_type": "stream",
       "stream": "stdout",
       "text": [
        "\n",
        "6"
       ]
      },
      {
       "output_type": "stream",
       "stream": "stdout",
       "text": [
        "\n",
        "7"
       ]
      },
      {
       "output_type": "stream",
       "stream": "stdout",
       "text": [
        "\n",
        "8"
       ]
      },
      {
       "output_type": "stream",
       "stream": "stdout",
       "text": [
        "\n",
        "9"
       ]
      },
      {
       "output_type": "stream",
       "stream": "stdout",
       "text": [
        "\n",
        "10"
       ]
      },
      {
       "output_type": "stream",
       "stream": "stdout",
       "text": [
        "\n",
        "1"
       ]
      },
      {
       "output_type": "stream",
       "stream": "stdout",
       "text": [
        "\n",
        "2"
       ]
      },
      {
       "output_type": "stream",
       "stream": "stdout",
       "text": [
        "\n",
        "3"
       ]
      },
      {
       "output_type": "stream",
       "stream": "stdout",
       "text": [
        "\n",
        "4"
       ]
      },
      {
       "output_type": "stream",
       "stream": "stdout",
       "text": [
        "\n",
        "5"
       ]
      },
      {
       "output_type": "stream",
       "stream": "stdout",
       "text": [
        "\n",
        "6"
       ]
      },
      {
       "output_type": "stream",
       "stream": "stdout",
       "text": [
        "\n",
        "7"
       ]
      },
      {
       "output_type": "stream",
       "stream": "stdout",
       "text": [
        "\n",
        "8"
       ]
      },
      {
       "output_type": "stream",
       "stream": "stdout",
       "text": [
        "\n",
        "9"
       ]
      },
      {
       "output_type": "stream",
       "stream": "stdout",
       "text": [
        "\n",
        "10"
       ]
      },
      {
       "output_type": "stream",
       "stream": "stdout",
       "text": [
        "\n",
        "1"
       ]
      },
      {
       "output_type": "stream",
       "stream": "stdout",
       "text": [
        "\n",
        "2"
       ]
      },
      {
       "output_type": "stream",
       "stream": "stdout",
       "text": [
        "\n",
        "3"
       ]
      },
      {
       "output_type": "stream",
       "stream": "stdout",
       "text": [
        "\n",
        "4"
       ]
      },
      {
       "output_type": "stream",
       "stream": "stdout",
       "text": [
        "\n",
        "5"
       ]
      },
      {
       "output_type": "stream",
       "stream": "stdout",
       "text": [
        "\n",
        "6"
       ]
      },
      {
       "output_type": "stream",
       "stream": "stdout",
       "text": [
        "\n",
        "7"
       ]
      },
      {
       "output_type": "stream",
       "stream": "stdout",
       "text": [
        "\n",
        "8"
       ]
      },
      {
       "output_type": "stream",
       "stream": "stdout",
       "text": [
        "\n",
        "9"
       ]
      },
      {
       "output_type": "stream",
       "stream": "stdout",
       "text": [
        "\n",
        "10"
       ]
      },
      {
       "output_type": "stream",
       "stream": "stdout",
       "text": [
        "\n",
        "1"
       ]
      },
      {
       "output_type": "stream",
       "stream": "stdout",
       "text": [
        "\n",
        "2"
       ]
      },
      {
       "output_type": "stream",
       "stream": "stdout",
       "text": [
        "\n",
        "3"
       ]
      },
      {
       "output_type": "stream",
       "stream": "stdout",
       "text": [
        "\n",
        "4"
       ]
      },
      {
       "output_type": "stream",
       "stream": "stdout",
       "text": [
        "\n",
        "5"
       ]
      },
      {
       "output_type": "stream",
       "stream": "stdout",
       "text": [
        "\n",
        "6"
       ]
      },
      {
       "output_type": "stream",
       "stream": "stdout",
       "text": [
        "\n",
        "7"
       ]
      },
      {
       "output_type": "stream",
       "stream": "stdout",
       "text": [
        "\n",
        "8"
       ]
      },
      {
       "output_type": "stream",
       "stream": "stdout",
       "text": [
        "\n",
        "9"
       ]
      },
      {
       "output_type": "stream",
       "stream": "stdout",
       "text": [
        "\n",
        "10"
       ]
      },
      {
       "output_type": "stream",
       "stream": "stdout",
       "text": [
        "\n",
        "1"
       ]
      },
      {
       "output_type": "stream",
       "stream": "stdout",
       "text": [
        "\n",
        "2"
       ]
      },
      {
       "output_type": "stream",
       "stream": "stdout",
       "text": [
        "\n",
        "3"
       ]
      },
      {
       "output_type": "stream",
       "stream": "stdout",
       "text": [
        "\n",
        "4"
       ]
      },
      {
       "output_type": "stream",
       "stream": "stdout",
       "text": [
        "\n",
        "5"
       ]
      },
      {
       "output_type": "stream",
       "stream": "stdout",
       "text": [
        "\n",
        "6"
       ]
      },
      {
       "output_type": "stream",
       "stream": "stdout",
       "text": [
        "\n",
        "7"
       ]
      },
      {
       "output_type": "stream",
       "stream": "stdout",
       "text": [
        "\n",
        "8"
       ]
      },
      {
       "output_type": "stream",
       "stream": "stdout",
       "text": [
        "\n",
        "9"
       ]
      },
      {
       "output_type": "stream",
       "stream": "stdout",
       "text": [
        "\n",
        "10"
       ]
      },
      {
       "output_type": "stream",
       "stream": "stdout",
       "text": [
        "\n",
        "1"
       ]
      },
      {
       "output_type": "stream",
       "stream": "stdout",
       "text": [
        "\n",
        "2"
       ]
      },
      {
       "output_type": "stream",
       "stream": "stdout",
       "text": [
        "\n",
        "3"
       ]
      },
      {
       "output_type": "stream",
       "stream": "stdout",
       "text": [
        "\n",
        "4"
       ]
      },
      {
       "output_type": "stream",
       "stream": "stdout",
       "text": [
        "\n",
        "5"
       ]
      },
      {
       "output_type": "stream",
       "stream": "stdout",
       "text": [
        "\n",
        "6"
       ]
      },
      {
       "output_type": "stream",
       "stream": "stdout",
       "text": [
        "\n",
        "7"
       ]
      },
      {
       "output_type": "stream",
       "stream": "stdout",
       "text": [
        "\n",
        "8"
       ]
      },
      {
       "output_type": "stream",
       "stream": "stdout",
       "text": [
        "\n",
        "9"
       ]
      },
      {
       "output_type": "stream",
       "stream": "stdout",
       "text": [
        "\n",
        "10"
       ]
      },
      {
       "output_type": "stream",
       "stream": "stdout",
       "text": [
        "\n",
        "1"
       ]
      },
      {
       "output_type": "stream",
       "stream": "stdout",
       "text": [
        "\n",
        "2"
       ]
      },
      {
       "output_type": "stream",
       "stream": "stdout",
       "text": [
        "\n",
        "3"
       ]
      },
      {
       "output_type": "stream",
       "stream": "stdout",
       "text": [
        "\n",
        "4"
       ]
      },
      {
       "output_type": "stream",
       "stream": "stdout",
       "text": [
        "\n",
        "5"
       ]
      },
      {
       "output_type": "stream",
       "stream": "stdout",
       "text": [
        "\n",
        "6"
       ]
      },
      {
       "output_type": "stream",
       "stream": "stdout",
       "text": [
        "\n",
        "7"
       ]
      },
      {
       "output_type": "stream",
       "stream": "stdout",
       "text": [
        "\n",
        "8"
       ]
      },
      {
       "output_type": "stream",
       "stream": "stdout",
       "text": [
        "\n",
        "9"
       ]
      },
      {
       "output_type": "stream",
       "stream": "stdout",
       "text": [
        "\n",
        "10"
       ]
      },
      {
       "output_type": "stream",
       "stream": "stdout",
       "text": [
        "\n",
        "1"
       ]
      },
      {
       "output_type": "stream",
       "stream": "stdout",
       "text": [
        "\n",
        "2"
       ]
      },
      {
       "output_type": "stream",
       "stream": "stdout",
       "text": [
        "\n",
        "3"
       ]
      },
      {
       "output_type": "stream",
       "stream": "stdout",
       "text": [
        "\n",
        "4"
       ]
      },
      {
       "output_type": "stream",
       "stream": "stdout",
       "text": [
        "\n",
        "5"
       ]
      },
      {
       "output_type": "stream",
       "stream": "stdout",
       "text": [
        "\n",
        "6"
       ]
      },
      {
       "output_type": "stream",
       "stream": "stdout",
       "text": [
        "\n",
        "7"
       ]
      },
      {
       "output_type": "stream",
       "stream": "stdout",
       "text": [
        "\n",
        "8"
       ]
      },
      {
       "output_type": "stream",
       "stream": "stdout",
       "text": [
        "\n",
        "9"
       ]
      },
      {
       "output_type": "stream",
       "stream": "stdout",
       "text": [
        "\n",
        "10"
       ]
      },
      {
       "output_type": "stream",
       "stream": "stdout",
       "text": [
        "\n",
        "1"
       ]
      },
      {
       "output_type": "stream",
       "stream": "stdout",
       "text": [
        "\n",
        "2"
       ]
      },
      {
       "output_type": "stream",
       "stream": "stdout",
       "text": [
        "\n",
        "3"
       ]
      },
      {
       "output_type": "stream",
       "stream": "stdout",
       "text": [
        "\n",
        "4"
       ]
      },
      {
       "output_type": "stream",
       "stream": "stdout",
       "text": [
        "\n",
        "5"
       ]
      },
      {
       "output_type": "stream",
       "stream": "stdout",
       "text": [
        "\n",
        "6"
       ]
      },
      {
       "output_type": "stream",
       "stream": "stdout",
       "text": [
        "\n",
        "7"
       ]
      },
      {
       "output_type": "stream",
       "stream": "stdout",
       "text": [
        "\n",
        "8"
       ]
      },
      {
       "output_type": "stream",
       "stream": "stdout",
       "text": [
        "\n",
        "9"
       ]
      },
      {
       "output_type": "stream",
       "stream": "stdout",
       "text": [
        "\n",
        "10"
       ]
      },
      {
       "output_type": "stream",
       "stream": "stdout",
       "text": [
        "\n",
        "1"
       ]
      },
      {
       "output_type": "stream",
       "stream": "stdout",
       "text": [
        "\n",
        "2"
       ]
      },
      {
       "output_type": "stream",
       "stream": "stdout",
       "text": [
        "\n",
        "3"
       ]
      },
      {
       "output_type": "stream",
       "stream": "stdout",
       "text": [
        "\n",
        "4"
       ]
      },
      {
       "output_type": "stream",
       "stream": "stdout",
       "text": [
        "\n",
        "5"
       ]
      },
      {
       "output_type": "stream",
       "stream": "stdout",
       "text": [
        "\n",
        "6"
       ]
      },
      {
       "output_type": "stream",
       "stream": "stdout",
       "text": [
        "\n",
        "7"
       ]
      },
      {
       "output_type": "stream",
       "stream": "stdout",
       "text": [
        "\n",
        "8"
       ]
      },
      {
       "output_type": "stream",
       "stream": "stdout",
       "text": [
        "\n",
        "9"
       ]
      },
      {
       "output_type": "stream",
       "stream": "stdout",
       "text": [
        "\n",
        "10"
       ]
      },
      {
       "output_type": "stream",
       "stream": "stdout",
       "text": [
        "\n",
        "1"
       ]
      },
      {
       "output_type": "stream",
       "stream": "stdout",
       "text": [
        "\n",
        "2"
       ]
      },
      {
       "output_type": "stream",
       "stream": "stdout",
       "text": [
        "\n",
        "3"
       ]
      },
      {
       "output_type": "stream",
       "stream": "stdout",
       "text": [
        "\n",
        "4"
       ]
      },
      {
       "output_type": "stream",
       "stream": "stdout",
       "text": [
        "\n",
        "5"
       ]
      },
      {
       "output_type": "stream",
       "stream": "stdout",
       "text": [
        "\n",
        "6"
       ]
      },
      {
       "output_type": "stream",
       "stream": "stdout",
       "text": [
        "\n",
        "7"
       ]
      },
      {
       "output_type": "stream",
       "stream": "stdout",
       "text": [
        "\n",
        "8"
       ]
      },
      {
       "output_type": "stream",
       "stream": "stdout",
       "text": [
        "\n",
        "9"
       ]
      },
      {
       "output_type": "stream",
       "stream": "stdout",
       "text": [
        "\n",
        "10"
       ]
      },
      {
       "output_type": "stream",
       "stream": "stdout",
       "text": [
        "\n",
        "1"
       ]
      },
      {
       "output_type": "stream",
       "stream": "stdout",
       "text": [
        "\n",
        "2"
       ]
      },
      {
       "output_type": "stream",
       "stream": "stdout",
       "text": [
        "\n",
        "3"
       ]
      },
      {
       "output_type": "stream",
       "stream": "stdout",
       "text": [
        "\n",
        "4"
       ]
      },
      {
       "output_type": "stream",
       "stream": "stdout",
       "text": [
        "\n",
        "5"
       ]
      },
      {
       "output_type": "stream",
       "stream": "stdout",
       "text": [
        "\n",
        "6"
       ]
      },
      {
       "output_type": "stream",
       "stream": "stdout",
       "text": [
        "\n",
        "7"
       ]
      },
      {
       "output_type": "stream",
       "stream": "stdout",
       "text": [
        "\n",
        "8"
       ]
      },
      {
       "output_type": "stream",
       "stream": "stdout",
       "text": [
        "\n",
        "9"
       ]
      },
      {
       "output_type": "stream",
       "stream": "stdout",
       "text": [
        "\n",
        "10"
       ]
      },
      {
       "output_type": "stream",
       "stream": "stdout",
       "text": [
        "\n",
        "1"
       ]
      },
      {
       "output_type": "stream",
       "stream": "stdout",
       "text": [
        "\n",
        "2"
       ]
      },
      {
       "output_type": "stream",
       "stream": "stdout",
       "text": [
        "\n",
        "3"
       ]
      },
      {
       "output_type": "stream",
       "stream": "stdout",
       "text": [
        "\n",
        "4"
       ]
      },
      {
       "output_type": "stream",
       "stream": "stdout",
       "text": [
        "\n",
        "5"
       ]
      },
      {
       "output_type": "stream",
       "stream": "stdout",
       "text": [
        "\n",
        "6"
       ]
      },
      {
       "output_type": "stream",
       "stream": "stdout",
       "text": [
        "\n",
        "7"
       ]
      },
      {
       "output_type": "stream",
       "stream": "stdout",
       "text": [
        "\n",
        "8"
       ]
      },
      {
       "output_type": "stream",
       "stream": "stdout",
       "text": [
        "\n",
        "9"
       ]
      },
      {
       "output_type": "stream",
       "stream": "stdout",
       "text": [
        "\n",
        "10"
       ]
      },
      {
       "output_type": "stream",
       "stream": "stdout",
       "text": [
        "\n",
        "1"
       ]
      },
      {
       "output_type": "stream",
       "stream": "stdout",
       "text": [
        "\n",
        "2"
       ]
      },
      {
       "output_type": "stream",
       "stream": "stdout",
       "text": [
        "\n",
        "3"
       ]
      },
      {
       "output_type": "stream",
       "stream": "stdout",
       "text": [
        "\n",
        "4"
       ]
      },
      {
       "output_type": "stream",
       "stream": "stdout",
       "text": [
        "\n",
        "5"
       ]
      },
      {
       "output_type": "stream",
       "stream": "stdout",
       "text": [
        "\n",
        "6"
       ]
      },
      {
       "output_type": "stream",
       "stream": "stdout",
       "text": [
        "\n",
        "7"
       ]
      },
      {
       "output_type": "stream",
       "stream": "stdout",
       "text": [
        "\n",
        "8"
       ]
      },
      {
       "output_type": "stream",
       "stream": "stdout",
       "text": [
        "\n",
        "9"
       ]
      },
      {
       "output_type": "stream",
       "stream": "stdout",
       "text": [
        "\n",
        "10"
       ]
      },
      {
       "output_type": "stream",
       "stream": "stdout",
       "text": [
        "\n",
        "1"
       ]
      },
      {
       "output_type": "stream",
       "stream": "stdout",
       "text": [
        "\n",
        "2"
       ]
      },
      {
       "output_type": "stream",
       "stream": "stdout",
       "text": [
        "\n",
        "3"
       ]
      },
      {
       "output_type": "stream",
       "stream": "stdout",
       "text": [
        "\n",
        "4"
       ]
      },
      {
       "output_type": "stream",
       "stream": "stdout",
       "text": [
        "\n",
        "5"
       ]
      },
      {
       "output_type": "stream",
       "stream": "stdout",
       "text": [
        "\n",
        "6"
       ]
      },
      {
       "output_type": "stream",
       "stream": "stdout",
       "text": [
        "\n",
        "7"
       ]
      },
      {
       "output_type": "stream",
       "stream": "stdout",
       "text": [
        "\n",
        "8"
       ]
      },
      {
       "output_type": "stream",
       "stream": "stdout",
       "text": [
        "\n",
        "9"
       ]
      },
      {
       "output_type": "stream",
       "stream": "stdout",
       "text": [
        "\n",
        "10"
       ]
      },
      {
       "output_type": "stream",
       "stream": "stdout",
       "text": [
        "\n",
        "1"
       ]
      },
      {
       "output_type": "stream",
       "stream": "stdout",
       "text": [
        "\n",
        "2"
       ]
      },
      {
       "output_type": "stream",
       "stream": "stdout",
       "text": [
        "\n",
        "3"
       ]
      },
      {
       "output_type": "stream",
       "stream": "stdout",
       "text": [
        "\n",
        "4"
       ]
      },
      {
       "output_type": "stream",
       "stream": "stdout",
       "text": [
        "\n",
        "5"
       ]
      },
      {
       "output_type": "stream",
       "stream": "stdout",
       "text": [
        "\n",
        "6"
       ]
      },
      {
       "output_type": "stream",
       "stream": "stdout",
       "text": [
        "\n",
        "7"
       ]
      },
      {
       "output_type": "stream",
       "stream": "stdout",
       "text": [
        "\n",
        "8"
       ]
      },
      {
       "output_type": "stream",
       "stream": "stdout",
       "text": [
        "\n",
        "9"
       ]
      },
      {
       "output_type": "stream",
       "stream": "stdout",
       "text": [
        "\n",
        "10"
       ]
      },
      {
       "output_type": "stream",
       "stream": "stdout",
       "text": [
        "\n",
        "1"
       ]
      },
      {
       "output_type": "stream",
       "stream": "stdout",
       "text": [
        "\n",
        "2"
       ]
      },
      {
       "output_type": "stream",
       "stream": "stdout",
       "text": [
        "\n",
        "3"
       ]
      },
      {
       "output_type": "stream",
       "stream": "stdout",
       "text": [
        "\n",
        "4"
       ]
      },
      {
       "output_type": "stream",
       "stream": "stdout",
       "text": [
        "\n",
        "5"
       ]
      },
      {
       "output_type": "stream",
       "stream": "stdout",
       "text": [
        "\n",
        "6"
       ]
      },
      {
       "output_type": "stream",
       "stream": "stdout",
       "text": [
        "\n",
        "7"
       ]
      },
      {
       "output_type": "stream",
       "stream": "stdout",
       "text": [
        "\n",
        "8"
       ]
      },
      {
       "output_type": "stream",
       "stream": "stdout",
       "text": [
        "\n",
        "9"
       ]
      },
      {
       "output_type": "stream",
       "stream": "stdout",
       "text": [
        "\n",
        "10"
       ]
      },
      {
       "output_type": "stream",
       "stream": "stdout",
       "text": [
        "\n"
       ]
      }
     ],
     "prompt_number": 53
    },
    {
     "cell_type": "code",
     "collapsed": false,
     "input": [
      "vals = [('http://reclaimnaija.net/reports/view/9655', '2014-08-09', u'Ede South, OSUN', str(4.433333), str(7.733333), u'ACCREDITATION IS ON GOING AND PEACEFUL AT PU 001, WARD 2', u'Accreditation smoothly at PU 001, ward 1, Ede North as 9:40am but there are few people at the unit', u'Unverified ', u'What went well', '21:44', '2015-02-05')]\n"
     ],
     "language": "python",
     "metadata": {},
     "outputs": [],
     "prompt_number": 2
    },
    {
     "cell_type": "code",
     "collapsed": false,
     "input": [
      "#naijadbInsert(vals, 'NAIJA_sec', \"NAIJA_tab\", path = '/users/jasper/documents/github.projects/reclaimnaija/data/')\n",
      "path = '/users/jasper/documents/github.projects/reclaimnaija/data/'\n",
      "con = lite.connect(path + 'NAIJA_sec' + '.db') \n",
      "\n",
      "tablename = \"NAIJA_tab\"\n",
      "with con:  \n",
      "    # Cursor file\n",
      "    cur = con.cursor()\n",
      "    # Write values to db\n",
      "    cur.executemany(\"INSERT INTO {} (URL, Date, Location, Longitude, Latitude, Title, Report, Verified, Category, Time , Scrapedate) VALUES(?, ?, ?, ?, ?, ?, ?, ?, ?, ?, ?);\".format(tablename), vals)\n",
      "    # Commit (i.e. save) changes\n",
      "    con.commit()\n",
      "    # Close connection\n",
      "con.close()"
     ],
     "language": "python",
     "metadata": {},
     "outputs": [],
     "prompt_number": 3
    },
    {
     "cell_type": "code",
     "collapsed": false,
     "input": [
      "print vals"
     ],
     "language": "python",
     "metadata": {},
     "outputs": [
      {
       "output_type": "stream",
       "stream": "stdout",
       "text": [
        "[u'http://reclaimnaija.net/reports/view/9615', '2014-08-09', u'Ede South, OSUN', 4.433333, 7.733333, u'ACCREDITATION IS ON GOING AND PEACEFUL AT PU 001, WARD 2', u'Accreditation smoothly at PU 001, ward 1, Ede North as 9:40am but there are few people at the unit', u'Unverified ', u'What went well', '21:44', '2015-02-05']\n"
       ]
      }
     ],
     "prompt_number": 135
    },
    {
     "cell_type": "code",
     "collapsed": false,
     "input": [
      "page = pageMaker(2,3)\n",
      "pages = naijaIndex(page[0])\n",
      "print pages"
     ],
     "language": "python",
     "metadata": {},
     "outputs": [
      {
       "output_type": "stream",
       "stream": "stdout",
       "text": [
        "[u'http://reclaimnaija.net/reports/view/9581', u'http://reclaimnaija.net/reports/view/9512', u'http://reclaimnaija.net/reports/view/10018', u'http://reclaimnaija.net/reports/view/10017', u'http://reclaimnaija.net/reports/view/10012', u'http://reclaimnaija.net/reports/view/10013', u'http://reclaimnaija.net/reports/view/10006', u'http://reclaimnaija.net/reports/view/10009', u'http://reclaimnaija.net/reports/view/10010', u'http://reclaimnaija.net/reports/view/10007']\n"
       ]
      }
     ],
     "prompt_number": 90
    },
    {
     "cell_type": "code",
     "collapsed": false,
     "input": [
      "res = [ naijaReport(p) \n",
      "        for p in pages ]\n",
      "print res"
     ],
     "language": "python",
     "metadata": {},
     "outputs": [
      {
       "output_type": "stream",
       "stream": "stdout",
       "text": [
        "[[u'http://reclaimnaija.net/reports/view/9581', datetime.date(2014, 8, 9), u'Osun State', 4.562443, 7.587584, u'Accreditation in progress', u'8.45am. People on queue. Accreditation ongoing. security personnel on ground PU: 29/09/10/ 004 okubanjo printing press area, egbedore, osun state.', u'Unverified ', u'What Went Well', u'21:00', datetime.date(2015, 2, 5)], [u'http://reclaimnaija.net/reports/view/9512', datetime.date(2014, 8, 9), u'Olorunda, Osun State', 4.564719, 7.785609, u'Early Arrival of INEC Officials', u'6:50 a.m 5 polling Officials arrived.PU: 29/27/001/005B.C&S Pry School,Olorunda,Osun State', u'Unverified ', u'What went well', u'19:25', datetime.date(2015, 2, 5)], [u'http://reclaimnaija.net/reports/view/10018', datetime.date(2014, 8, 9), u'Irewole, Osun', 4.566507, 7.788432, u'ELECTION RESULT FROM IRE-WOLE, IKIRE, OSUN', u'PPA 1, AA2 ,APA2, NCP1, ACPN2, ADC2, AD2, LABOUR2, PDP74, APC178, Rejected 9. Dis is d r\\xe9sult of ward4 unit6 in irewole local G.', u'Unverified ', u'ELECTION RESULTS', u'17:25', datetime.date(2015, 2, 5)], [u'http://reclaimnaija.net/reports/view/10017', datetime.date(2014, 8, 9), u'osun state', 4.562443, 7.587584, u'Election result', u'TOTAL ACCREDITED VOTERS IS 223, TOTAL VOTES CAST 218, VOID 4. ACPN 3, APA 1,APC 148, PDP 66,AT 05:19 PU 05/W.02/LG01/S.29', u'Unverified ', u'ELECTION RESULTS', u'17:24', datetime.date(2015, 2, 5)], [u'http://reclaimnaija.net/reports/view/10012', datetime.date(2014, 8, 9), u'Osun, Osun', 4.562443, 7.587584, u'COUNTING ENDS AT PU 29/26/5/001, OSUN', u'The counting process ends at 5:03 pm at PU:29/26/5/001.AKINDELE AKINWALE', u'Unverified ', u'ELECTION RESULTS', u'17:18', datetime.date(2015, 2, 5)], [u'http://reclaimnaija.net/reports/view/10013', datetime.date(2014, 8, 9), u'Osun State', 4.562443, 7.587584, u'Results', u'5:12PM.INEC OFFICER HAVE PASTED RESULT ON THE WALL & GAVE THE DUPLICATES COPY OF RESULT TO EACH PARTY AGENT & SECURITY PU:29/21/02/003', u'Unverified ', u'ELECTION RESULTS', u'17:18', datetime.date(2015, 2, 5)], [u'http://reclaimnaija.net/reports/view/10006', datetime.date(2014, 8, 9), u'osun state', 4.562443, 7.587584, u'election result', u'AD=01 -ACPN= 4-APC=209- LP=07-PDP=156 - PPA=01-PPN=1@ word 5 unit 1.... Invalid vote 9', u'Unverified ', u'ELECTION RESULTS', u'17:13', datetime.date(2015, 2, 5)], [u'http://reclaimnaija.net/reports/view/10009', datetime.date(2014, 8, 9), u'Osun, Osun', 4.562443, 7.587584, u'RESULT FROM PU OS/25/15/005, OSUN', u'5:10 p.m.total Votes casted 269. PU. OS/25/15/005.', u'Unverified ', u'ELECTION RESULTS', u'17:13', datetime.date(2015, 2, 5)], [u'http://reclaimnaija.net/reports/view/10010', datetime.date(2014, 8, 9), u'osun state', 4.562443, 7.587584, u'Election result', u'Pu:003: ward . 11 . L. G: odo- otin. The results are as follow: a p c: 128 p d p: 97 l p: 06. A. A: 1 . Apga: 01 total: 233 .', u'Unverified ', u'ELECTION RESULTS', u'17:12', datetime.date(2015, 2, 5)], [u'http://reclaimnaija.net/reports/view/10007', datetime.date(2014, 8, 9), u'MODAKEKE, OSUN', 4.543855, 7.477198, u'ELECTION RESULTS', u'4:59pm: Election results for unit 2-PDP:59,APC:173,APGA:02,A:01,AA:01,ACPN:05,ADC:05,APA:02,CPP:04,LP:02,NCP:01,NCP:01,PPA:01,SDP:02:ADP:03 at PU: 29/13/009/009 in Primary Health Centre(Ife east area office),Modakeke Osun state.', u'Unverified ', u'ELECTION RESULTS', u'17:10', datetime.date(2015, 2, 5)]]\n"
       ]
      }
     ],
     "prompt_number": 91
    },
    {
     "cell_type": "code",
     "collapsed": false,
     "input": [
      "print res[0]"
     ],
     "language": "python",
     "metadata": {},
     "outputs": [
      {
       "output_type": "stream",
       "stream": "stdout",
       "text": [
        "[u'http://reclaimnaija.net/reports/view/9581', datetime.date(2014, 8, 9), u'Osun State', 4.562443, 7.587584, u'Accreditation in progress', u'8.45am. People on queue. Accreditation ongoing. security personnel on ground PU: 29/09/10/ 004 okubanjo printing press area, egbedore, osun state.', u'Unverified ', u'What Went Well', u'21:00', datetime.date(2015, 2, 5)]\n"
       ]
      }
     ],
     "prompt_number": 92
    },
    {
     "cell_type": "code",
     "collapsed": false,
     "input": [
      "u = requests.get('http://reclaimnaija.net/reports/view/9655').text\n",
      "soup = BeautifulSoup(u, \"html.parser\")\n",
      "# Details\n",
      "text = ' '.join(soup.find('div',{'class':'report-description'}).find('div',{'class':'content'}).contents[0].split())\n",
      "print text\n",
      "reportD = soup.find('div',{'class':'report-details'})\n",
      "# Verified?\n",
      "ver = reportD.find('div',{'class':'verified'}).text\n",
      "print ver\n",
      "# tag\n",
      "tag = reportD.find('h1').text\n",
      "print tag\n",
      "# Details\n",
      "det = reportD.find('ul',{'class':'details'}).findAll('li')\n",
      "Loc = ' '.join(det[0].contents[2].split())\n",
      "print Loc\n",
      "Dat = datetime.datetime.strptime(' '.join(det[1].contents[2].split()),'%b %d %Y').date()\n",
      "print str(Dat)\n",
      "Tim = ' '.join(det[2].contents[2].split())\n",
      "print Tim\n",
      "Cat = ' '.join(det[3].find('a').text.split())\n",
      "print Cat\n",
      "scrapedate = datetime.date.today()\n",
      "print str(scrapedate)"
     ],
     "language": "python",
     "metadata": {},
     "outputs": [
      {
       "output_type": "stream",
       "stream": "stdout",
       "text": [
        "Accreditation not well monitored, queue disturbed,voters harrasment. 29/06/09\ufffd05. At boripe lgt, bhs iree osun state.\n",
        "Unverified \n",
        "Accreditation not well monitored\n",
        "Osun State\n",
        "2014-08-09\n",
        "22:50\n",
        "Others\n",
        "2015-02-05\n"
       ]
      }
     ],
     "prompt_number": 113
    },
    {
     "cell_type": "code",
     "collapsed": false,
     "input": [
      "path = naijaPathmaker(\"NAIJA_sec\", \"/users/jasper/documents/github.projects/reclaimnaija/data\")\n",
      "print path"
     ],
     "language": "python",
     "metadata": {},
     "outputs": [
      {
       "output_type": "stream",
       "stream": "stdout",
       "text": [
        "/users/jasper/documents/github.projects/reclaimnaija/data/NAIJA_sec.db\n"
       ]
      }
     ],
     "prompt_number": 4
    },
    {
     "cell_type": "code",
     "collapsed": false,
     "input": [
      "url = \"http://reclaimnaija.net/reports/view/9581\"\n",
      "con = lite.connect(path) \n",
      "with con:  \n",
      "    # Cursor file\n",
      "    cur = con.cursor()\n",
      "    cur.execute(\"SELECT URL FROM {} WHERE URL = ?\".format(\"NAIJA_tab\"), (url,))\n",
      "    data=cur.fetchone()\n",
      "    # Return\n",
      "    return(data)\n",
      "    if data is None:\n",
      "        \n",
      "    else:\n",
      "        #print('Component %s found with rowid {}'.format(data[0])"
     ],
     "language": "python",
     "metadata": {},
     "outputs": [
      {
       "output_type": "stream",
       "stream": "stdout",
       "text": [
        "http://reclaimnaija.net/reports/view/9581\n"
       ]
      }
     ],
     "prompt_number": 12
    },
    {
     "cell_type": "code",
     "collapsed": false,
     "input": [
      "# For json.dumps\n",
      "# http://reclaimnaija.net/json/single/9655"
     ],
     "language": "python",
     "metadata": {},
     "outputs": []
    }
   ],
   "metadata": {}
  }
 ]
}